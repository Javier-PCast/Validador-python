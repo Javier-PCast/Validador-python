{
  "nbformat": 4,
  "nbformat_minor": 0,
  "metadata": {
    "colab": {
      "name": "Validador  enteros y flotantes",
      "provenance": [],
      "authorship_tag": "ABX9TyPMp8f8BTOSgC/3t66uacf+",
      "include_colab_link": true
    },
    "kernelspec": {
      "name": "python3",
      "display_name": "Python 3"
    }
  },
  "cells": [
    {
      "cell_type": "markdown",
      "metadata": {
        "id": "view-in-github",
        "colab_type": "text"
      },
      "source": [
        "<a href=\"https://colab.research.google.com/github/Javier-PCast/Validador-python/blob/main/Validador_enteros_y_flotantes.ipynb\" target=\"_parent\"><img src=\"https://colab.research.google.com/assets/colab-badge.svg\" alt=\"Open In Colab\"/></a>"
      ]
    },
    {
      "cell_type": "code",
      "metadata": {
        "id": "mVGjIepNtFzl"
      },
      "source": [
        "#Función validación entero\n",
        "\n",
        "def ValInt(x):\n",
        "  for i in range(0,len(x)):\n",
        "    if ord(x[i])<48 or ord(x[i])>57:\n",
        "      return False\n",
        "  return True\n"
      ],
      "execution_count": null,
      "outputs": []
    },
    {
      "cell_type": "code",
      "metadata": {
        "id": "fw5qOgq4wCom"
      },
      "source": [
        "#Función validación flotante\n",
        "\n",
        "def ValFloat(x):\n",
        "  Count=0\n",
        "  for i in range(0,len(x)):\n",
        "    if ord(x[i])==46:\n",
        "      Count+=1      \n",
        "  if Count==1:\n",
        "    return True\n",
        "  else:\n",
        "    return False  "
      ],
      "execution_count": null,
      "outputs": []
    },
    {
      "cell_type": "code",
      "metadata": {
        "id": "xrmixvFkuGDt"
      },
      "source": [
        "#Prueba validador entero\n",
        "\n",
        "Sensor=False\n",
        "print(\"Ingresa un número entero:\")\n",
        "while(Sensor==False):\n",
        "  TestNumber=input()\n",
        "  Sensor=ValInt(TestNumber)\n",
        "  if(Sensor==False):\n",
        "    print(\"El dato no cumple con las espeficicaciones, ingresalo nuevamente\")\n",
        "\n",
        "OfficialNumber=int(TestNumber)    \n",
        "\n",
        "print(\"Numero oficial: \",OfficialNumber)"
      ],
      "execution_count": null,
      "outputs": []
    },
    {
      "cell_type": "code",
      "metadata": {
        "id": "Hm53rIIYw2PB"
      },
      "source": [
        "#Prueba validador flotante\n",
        "\n",
        "Sensor=False\n",
        "print(\"Ingresa un número flotante:\")\n",
        "while(Sensor==False):\n",
        "  TestNumber=input()\n",
        "  Sensor=ValFloat(TestNumber)\n",
        "  if(Sensor==False):\n",
        "    print(\"El dato no cumple con las espeficicaciones, ingresalo nuevamente\")\n",
        "\n",
        "OfficialNumber=float(TestNumber)    \n",
        "\n",
        "print(\"Numero oficial: \",OfficialNumber)"
      ],
      "execution_count": null,
      "outputs": []
    }
  ]
}